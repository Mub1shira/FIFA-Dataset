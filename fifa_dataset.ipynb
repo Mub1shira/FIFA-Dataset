{
 "cells": [
  {
   "cell_type": "markdown",
   "id": "37b253c4",
   "metadata": {},
   "source": [
    "<h2 class=\"red-heading\"> Fifa_Project using matplotlib, seaborn</h2>"
   ]
  },
  {
   "cell_type": "code",
   "execution_count": 3,
   "id": "d93ecaab",
   "metadata": {},
   "outputs": [],
   "source": [
    "import matplotlib.pyplot as plt # For creating plots and visualizations\n",
    "import pandas as pd  # For data manipulation and analysis\n",
    "import seaborn as sns          # For advanced visualizations and statistical plots"
   ]
  },
  {
   "cell_type": "markdown",
   "id": "486e29d6",
   "metadata": {},
   "source": [
    "Exploratory Data Analysis(EDA)"
   ]
  },
  {
   "cell_type": "code",
   "execution_count": 5,
   "id": "52f8ff4f",
   "metadata": {},
   "outputs": [],
   "source": [
    "df=pd.read_csv('C://Users//EliteBook//Desktop//ds//fifa_project.csv',encoding='unicode_escape')"
   ]
  },
  {
   "cell_type": "code",
   "execution_count": 8,
   "id": "a0aef73e",
   "metadata": {},
   "outputs": [
    {
     "data": {
      "text/html": [
       "<div>\n",
       "<style scoped>\n",
       "    .dataframe tbody tr th:only-of-type {\n",
       "        vertical-align: middle;\n",
       "    }\n",
       "\n",
       "    .dataframe tbody tr th {\n",
       "        vertical-align: top;\n",
       "    }\n",
       "\n",
       "    .dataframe thead th {\n",
       "        text-align: right;\n",
       "    }\n",
       "</style>\n",
       "<table border=\"1\" class=\"dataframe\">\n",
       "  <thead>\n",
       "    <tr style=\"text-align: right;\">\n",
       "      <th></th>\n",
       "      <th>Unnamed: 0</th>\n",
       "      <th>ID</th>\n",
       "      <th>Name</th>\n",
       "      <th>Age</th>\n",
       "      <th>Photo</th>\n",
       "      <th>Nationality</th>\n",
       "      <th>Flag</th>\n",
       "      <th>Overall</th>\n",
       "      <th>Potential</th>\n",
       "      <th>Club</th>\n",
       "      <th>...</th>\n",
       "      <th>Composure</th>\n",
       "      <th>Marking</th>\n",
       "      <th>StandingTackle</th>\n",
       "      <th>SlidingTackle</th>\n",
       "      <th>GKDiving</th>\n",
       "      <th>GKHandling</th>\n",
       "      <th>GKKicking</th>\n",
       "      <th>GKPositioning</th>\n",
       "      <th>GKReflexes</th>\n",
       "      <th>Release Clause</th>\n",
       "    </tr>\n",
       "  </thead>\n",
       "  <tbody>\n",
       "    <tr>\n",
       "      <th>0</th>\n",
       "      <td>0</td>\n",
       "      <td>158023</td>\n",
       "      <td>L. Messi</td>\n",
       "      <td>31</td>\n",
       "      <td>https://cdn.sofifa.org/players/4/19/158023.png</td>\n",
       "      <td>Argentina</td>\n",
       "      <td>https://cdn.sofifa.org/flags/52.png</td>\n",
       "      <td>94</td>\n",
       "      <td>94</td>\n",
       "      <td>FC Barcelona</td>\n",
       "      <td>...</td>\n",
       "      <td>96.0</td>\n",
       "      <td>33.0</td>\n",
       "      <td>28.0</td>\n",
       "      <td>26.0</td>\n",
       "      <td>6.0</td>\n",
       "      <td>11.0</td>\n",
       "      <td>15.0</td>\n",
       "      <td>14.0</td>\n",
       "      <td>8.0</td>\n",
       "      <td>226.5M</td>\n",
       "    </tr>\n",
       "    <tr>\n",
       "      <th>1</th>\n",
       "      <td>1</td>\n",
       "      <td>20801</td>\n",
       "      <td>Cristiano Ronaldo</td>\n",
       "      <td>33</td>\n",
       "      <td>https://cdn.sofifa.org/players/4/19/20801.png</td>\n",
       "      <td>Portugal</td>\n",
       "      <td>https://cdn.sofifa.org/flags/38.png</td>\n",
       "      <td>94</td>\n",
       "      <td>94</td>\n",
       "      <td>Juventus</td>\n",
       "      <td>...</td>\n",
       "      <td>95.0</td>\n",
       "      <td>28.0</td>\n",
       "      <td>31.0</td>\n",
       "      <td>23.0</td>\n",
       "      <td>7.0</td>\n",
       "      <td>11.0</td>\n",
       "      <td>15.0</td>\n",
       "      <td>14.0</td>\n",
       "      <td>11.0</td>\n",
       "      <td>127.1M</td>\n",
       "    </tr>\n",
       "    <tr>\n",
       "      <th>2</th>\n",
       "      <td>2</td>\n",
       "      <td>190871</td>\n",
       "      <td>Neymar Jr</td>\n",
       "      <td>26</td>\n",
       "      <td>https://cdn.sofifa.org/players/4/19/190871.png</td>\n",
       "      <td>Brazil</td>\n",
       "      <td>https://cdn.sofifa.org/flags/54.png</td>\n",
       "      <td>92</td>\n",
       "      <td>93</td>\n",
       "      <td>Paris Saint-Germain</td>\n",
       "      <td>...</td>\n",
       "      <td>94.0</td>\n",
       "      <td>27.0</td>\n",
       "      <td>24.0</td>\n",
       "      <td>33.0</td>\n",
       "      <td>9.0</td>\n",
       "      <td>9.0</td>\n",
       "      <td>15.0</td>\n",
       "      <td>15.0</td>\n",
       "      <td>11.0</td>\n",
       "      <td>228.1M</td>\n",
       "    </tr>\n",
       "    <tr>\n",
       "      <th>3</th>\n",
       "      <td>3</td>\n",
       "      <td>193080</td>\n",
       "      <td>De Gea</td>\n",
       "      <td>27</td>\n",
       "      <td>https://cdn.sofifa.org/players/4/19/193080.png</td>\n",
       "      <td>Spain</td>\n",
       "      <td>https://cdn.sofifa.org/flags/45.png</td>\n",
       "      <td>91</td>\n",
       "      <td>93</td>\n",
       "      <td>Manchester United</td>\n",
       "      <td>...</td>\n",
       "      <td>68.0</td>\n",
       "      <td>15.0</td>\n",
       "      <td>21.0</td>\n",
       "      <td>13.0</td>\n",
       "      <td>90.0</td>\n",
       "      <td>85.0</td>\n",
       "      <td>87.0</td>\n",
       "      <td>88.0</td>\n",
       "      <td>94.0</td>\n",
       "      <td>138.6M</td>\n",
       "    </tr>\n",
       "    <tr>\n",
       "      <th>4</th>\n",
       "      <td>4</td>\n",
       "      <td>192985</td>\n",
       "      <td>K. De Bruyne</td>\n",
       "      <td>27</td>\n",
       "      <td>https://cdn.sofifa.org/players/4/19/192985.png</td>\n",
       "      <td>Belgium</td>\n",
       "      <td>https://cdn.sofifa.org/flags/7.png</td>\n",
       "      <td>91</td>\n",
       "      <td>92</td>\n",
       "      <td>Manchester City</td>\n",
       "      <td>...</td>\n",
       "      <td>88.0</td>\n",
       "      <td>68.0</td>\n",
       "      <td>58.0</td>\n",
       "      <td>51.0</td>\n",
       "      <td>15.0</td>\n",
       "      <td>13.0</td>\n",
       "      <td>5.0</td>\n",
       "      <td>10.0</td>\n",
       "      <td>13.0</td>\n",
       "      <td>196.4M</td>\n",
       "    </tr>\n",
       "  </tbody>\n",
       "</table>\n",
       "<p>5 rows × 89 columns</p>\n",
       "</div>"
      ],
      "text/plain": [
       "   Unnamed: 0      ID               Name  Age  \\\n",
       "0           0  158023           L. Messi   31   \n",
       "1           1   20801  Cristiano Ronaldo   33   \n",
       "2           2  190871          Neymar Jr   26   \n",
       "3           3  193080             De Gea   27   \n",
       "4           4  192985       K. De Bruyne   27   \n",
       "\n",
       "                                            Photo Nationality  \\\n",
       "0  https://cdn.sofifa.org/players/4/19/158023.png   Argentina   \n",
       "1   https://cdn.sofifa.org/players/4/19/20801.png    Portugal   \n",
       "2  https://cdn.sofifa.org/players/4/19/190871.png      Brazil   \n",
       "3  https://cdn.sofifa.org/players/4/19/193080.png       Spain   \n",
       "4  https://cdn.sofifa.org/players/4/19/192985.png     Belgium   \n",
       "\n",
       "                                  Flag  Overall  Potential  \\\n",
       "0  https://cdn.sofifa.org/flags/52.png       94         94   \n",
       "1  https://cdn.sofifa.org/flags/38.png       94         94   \n",
       "2  https://cdn.sofifa.org/flags/54.png       92         93   \n",
       "3  https://cdn.sofifa.org/flags/45.png       91         93   \n",
       "4   https://cdn.sofifa.org/flags/7.png       91         92   \n",
       "\n",
       "                  Club  ... Composure Marking StandingTackle  SlidingTackle  \\\n",
       "0         FC Barcelona  ...      96.0    33.0           28.0           26.0   \n",
       "1             Juventus  ...      95.0    28.0           31.0           23.0   \n",
       "2  Paris Saint-Germain  ...      94.0    27.0           24.0           33.0   \n",
       "3    Manchester United  ...      68.0    15.0           21.0           13.0   \n",
       "4      Manchester City  ...      88.0    68.0           58.0           51.0   \n",
       "\n",
       "  GKDiving  GKHandling  GKKicking  GKPositioning GKReflexes Release Clause  \n",
       "0      6.0        11.0       15.0           14.0        8.0        226.5M  \n",
       "1      7.0        11.0       15.0           14.0       11.0        127.1M  \n",
       "2      9.0         9.0       15.0           15.0       11.0        228.1M  \n",
       "3     90.0        85.0       87.0           88.0       94.0        138.6M  \n",
       "4     15.0        13.0        5.0           10.0       13.0        196.4M  \n",
       "\n",
       "[5 rows x 89 columns]"
      ]
     },
     "execution_count": 8,
     "metadata": {},
     "output_type": "execute_result"
    }
   ],
   "source": [
    "df.head()"
   ]
  },
  {
   "cell_type": "markdown",
   "id": "ca203c1c",
   "metadata": {},
   "source": [
    "# 1. Which country has the most number of players"
   ]
  },
  {
   "cell_type": "code",
   "execution_count": 9,
   "id": "936a1b7a",
   "metadata": {},
   "outputs": [
    {
     "name": "stdout",
     "output_type": "stream",
     "text": [
      "The country with the most number of players is: England\n"
     ]
    }
   ],
   "source": [
    "\n",
    "country_with_most_players = df['Nationality'].value_counts().idxmax()\n",
    "print(f\"The country with the most number of players is: {country_with_most_players}\")"
   ]
  },
  {
   "cell_type": "markdown",
   "id": "46471eb9",
   "metadata": {},
   "source": [
    "\n",
    "# 2. Plot a bar chart of 5 top countries with the most number of players"
   ]
  },
  {
   "cell_type": "code",
   "execution_count": 10,
   "id": "5c9d43ae",
   "metadata": {
    "scrolled": true
   },
   "outputs": [
    {
     "data": {
      "image/png": "[encoded data removed]",
      "text/plain": [
       "<Figure size 640x480 with 1 Axes>"
      ]
     },
     "metadata": {},
     "output_type": "display_data"
    }
   ],
   "source": [
    "\n",
    "top_countries = df['Nationality'].value_counts().nlargest(5)\n",
    "plt.bar(top_countries.index, top_countries.values)\n",
    "plt.xlabel('Nationality')\n",
    "plt.ylabel('Number of Players')\n",
    "plt.title('Top 5 Countries with the Most Number of Players')\n",
    "plt.show()"
   ]
  },
  {
   "cell_type": "raw",
   "id": "daefb6eb",
   "metadata": {},
   "source": [
    "Bar chart showing the 5 countries with the highest number of players. England is the 1st position"
   ]
  },
  {
   "cell_type": "markdown",
   "id": "1b85e09d",
   "metadata": {},
   "source": [
    "Column Names"
   ]
  },
  {
   "cell_type": "code",
   "execution_count": 16,
   "id": "08f4e347",
   "metadata": {},
   "outputs": [
    {
     "data": {
      "text/plain": [
       "Index(['Unnamed: 0', 'ID', 'Name', 'Age', 'Photo', 'Nationality', 'Flag',\n",
       "       'Overall', 'Potential', 'Club', 'Club Logo', 'Value', 'Wage', 'Special',\n",
       "       'Preferred Foot', 'International Reputation', 'Weak Foot',\n",
       "       'Skill Moves', 'Work Rate', 'Body Type', 'Real Face', 'Position',\n",
       "       'Jersey Number', 'Joined', 'Loaned From', 'Contract Valid Until',\n",
       "       'Height', 'Weight', 'LS', 'ST', 'RS', 'LW', 'LF', 'CF', 'RF', 'RW',\n",
       "       'LAM', 'CAM', 'RAM', 'LM', 'LCM', 'CM', 'RCM', 'RM', 'LWB', 'LDM',\n",
       "       'CDM', 'RDM', 'RWB', 'LB', 'LCB', 'CB', 'RCB', 'RB', 'Crossing',\n",
       "       'Finishing', 'HeadingAccuracy', 'ShortPassing', 'Volleys', 'Dribbling',\n",
       "       'Curve', 'FKAccuracy', 'LongPassing', 'BallControl', 'Acceleration',\n",
       "       'SprintSpeed', 'Agility', 'Reactions', 'Balance', 'ShotPower',\n",
       "       'Jumping', 'Stamina', 'Strength', 'LongShots', 'Aggression',\n",
       "       'Interceptions', 'Positioning', 'Vision', 'Penalties', 'Composure',\n",
       "       'Marking', 'StandingTackle', 'SlidingTackle', 'GKDiving', 'GKHandling',\n",
       "       'GKKicking', 'GKPositioning', 'GKReflexes', 'Release Clause'],\n",
       "      dtype='object')"
      ]
     },
     "execution_count": 16,
     "metadata": {},
     "output_type": "execute_result"
    }
   ],
   "source": [
    "df.columns"
   ]
  },
  {
   "cell_type": "markdown",
   "id": "46fa9f54",
   "metadata": {},
   "source": [
    "# 3. Display the player with the highest salary"
   ]
  },
  {
   "cell_type": "code",
   "execution_count": 26,
   "id": "3ebb255c",
   "metadata": {},
   "outputs": [
    {
     "name": "stdout",
     "output_type": "stream",
     "text": [
      "Player with the highest salary: L. Messi\n"
     ]
    }
   ],
   "source": [
    "#Converte\n",
    "df_sorted = df.sort_values(by='Wage', ascending=False)\n",
    "\n",
    " \n",
    "highest_salary_player = df_sorted.iloc[0]['Name']\n",
    "print(\"Player with the highest salary:\", highest_salary_player)"
   ]
  },
  {
   "cell_type": "raw",
   "id": "c311ba15",
   "metadata": {},
   "source": [
    "The player with the highest salary is \"L. Messi\" with a salary of \"€565K\"."
   ]
  },
  {
   "cell_type": "markdown",
   "id": "8dda80a6",
   "metadata": {},
   "source": [
    "# 4. Plot a histogram to get the salary range of the players"
   ]
  },
  {
   "cell_type": "code",
   "execution_count": 6,
   "id": "2cfce3ef",
   "metadata": {},
   "outputs": [
    {
     "name": "stderr",
     "output_type": "stream",
     "text": [
      "C:\\Users\\EliteBook\\anaconda3\\lib\\site-packages\\IPython\\core\\pylabtools.py:151: UserWarning: Glyph 128 (\\x80) missing from current font.\n",
      "  fig.canvas.print_figure(bytes_io, **kw)\n"
     ]
    },
    {
     "data": {
      "image/png": "[encoded data removed]",
      "text/plain": [
       "<Figure size 640x480 with 1 Axes>"
      ]
     },
     "metadata": {},
     "output_type": "display_data"
    }
   ],
   "source": [
    " \n",
    "plt.hist(df['Wage'], bins=20)\n",
    "plt.xlabel('Salary')\n",
    "plt.ylabel('Number of Players')\n",
    "plt.title('Salary Range of FIFA Players')\n",
    "plt.show()\n",
    "\n"
   ]
  },
  {
   "cell_type": "raw",
   "id": "7ad22e59",
   "metadata": {},
   "source": [
    "Histogram depicting the distribution of player salaries."
   ]
  },
  {
   "cell_type": "markdown",
   "id": "a45b4e1e",
   "metadata": {},
   "source": [
    "# 5.Who is the tallest player in the fifa players?"
   ]
  },
  {
   "cell_type": "code",
   "execution_count": 34,
   "id": "18cfb71c",
   "metadata": {},
   "outputs": [
    {
     "name": "stdout",
     "output_type": "stream",
     "text": [
      "The tallest player with height in feet:\n"
     ]
    },
    {
     "data": {
      "text/plain": [
       "Name      T. Holý\n",
       "Height        6.9\n",
       "Name: 11614, dtype: object"
      ]
     },
     "execution_count": 34,
     "metadata": {},
     "output_type": "execute_result"
    }
   ],
   "source": [
    "#creating a smaller data for easy calculation\n",
    "df_ht = pd.read_csv('C://Users//EliteBook//Desktop//ds//fifa_project.csv',encoding='unicode_escape', usecols = ['Name','Height'])\n",
    "\n",
    "#converting type of height to float for comparison\n",
    "df_ht['Height'] = df_ht['Height'].replace({\"'\": \".\"}, regex=True).astype(float)\n",
    "\n",
    "# sorting based on height\n",
    "print(\"The tallest player with height in feet:\")\n",
    "df_ht.sort_values(by=['Height'], ascending = False).iloc[0]"
   ]
  },
  {
   "cell_type": "raw",
   "id": "34cba40e",
   "metadata": {},
   "source": [
    "The tallest player in the FIFA dataset is \"T.Holy\" with a height of 6.9 feet."
   ]
  },
  {
   "cell_type": "markdown",
   "id": "3b924287",
   "metadata": {},
   "source": [
    "#  6. Which club has the most number of players?"
   ]
  },
  {
   "cell_type": "code",
   "execution_count": 36,
   "id": "2f505052",
   "metadata": {},
   "outputs": [
    {
     "name": "stdout",
     "output_type": "stream",
     "text": [
      "The club with the most number of players is: FC Barcelona\n"
     ]
    }
   ],
   "source": [
    "\n",
    "club_with_most_players = df['Club'].value_counts().idxmax()\n",
    "print(f\"The club with the most number of players is: {club_with_most_players}\")\n",
    "\n"
   ]
  },
  {
   "cell_type": "raw",
   "id": "ede98688",
   "metadata": {},
   "source": [
    " The club with the most players in the dataset is FC Barcelona."
   ]
  },
  {
   "cell_type": "markdown",
   "id": "b1080d74",
   "metadata": {},
   "source": [
    "#  7. Which foot is most preferred by the players? Draw a bar chart for preferred foot"
   ]
  },
  {
   "cell_type": "code",
   "execution_count": 38,
   "id": "9dc41d66",
   "metadata": {
    "scrolled": true
   },
   "outputs": [
    {
     "data": {
      "image/png": "[encoded data removed]",
      "text/plain": [
       "<Figure size 640x480 with 1 Axes>"
      ]
     },
     "metadata": {},
     "output_type": "display_data"
    }
   ],
   "source": [
    "\n",
    "preferred_foot_count = df['Preferred Foot'].value_counts()\n",
    "plt.bar(preferred_foot_count.index, preferred_foot_count.values)\n",
    "plt.xlabel('Preferred Foot')\n",
    "plt.ylabel('Number of Players')\n",
    "plt.title('Preferred Foot of FIFA Players')\n",
    "plt.show()"
   ]
  },
  {
   "cell_type": "raw",
   "id": "4e281913",
   "metadata": {},
   "source": [
    "Bar chart displaying the preferred foot  right of players"
   ]
  },
  {
   "cell_type": "markdown",
   "id": "a6193ed8",
   "metadata": {},
   "source": [
    "# Conclusion: "
   ]
  },
  {
   "cell_type": "markdown",
   "id": "34f11363",
   "metadata": {},
   "source": [
    "\n",
    "The exploratory data analysis of the FIFA Players Dataset provided valuable insights into the demographics, salaries, physical attributes, and club affiliations of football players. It revealed the top countries with the highest number of players, the highest-paid player, the distribution of player salaries, the tallest player, the club with the most players, and the preferred foot among players."
   ]
  }
 ],
 "metadata": {
  "kernelspec": {
   "display_name": "Python 3 (ipykernel)",
   "language": "python",
   "name": "python3"
  },
  "language_info": {
   "codemirror_mode": {
    "name": "ipython",
    "version": 3
   },
   "file_extension": ".py",
   "mimetype": "text/x-python",
   "name": "python",
   "nbconvert_exporter": "python",
   "pygments_lexer": "ipython3",
   "version": "3.9.13"
  }
 },
 "nbformat": 4,
 "nbformat_minor": 5
}
